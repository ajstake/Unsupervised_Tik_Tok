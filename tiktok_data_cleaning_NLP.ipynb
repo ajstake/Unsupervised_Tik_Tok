{
 "cells": [
  {
   "cell_type": "code",
   "execution_count": 47,
   "id": "f8463542",
   "metadata": {},
   "outputs": [],
   "source": [
    "import numpy as np\n",
    "import pandas as pd\n",
    "import datetime as dt\n",
    "import spacy\n",
    "nlp = spacy.load('en_core_web_sm')\n",
    "from sklearn.feature_extraction.text import CountVectorizer, TfidfVectorizer\n",
    "from sklearn.decomposition import LatentDirichletAllocation, TruncatedSVD\n",
    "from wordcloud import WordCloud\n",
    "import matplotlib as plt"
   ]
  },
  {
   "cell_type": "code",
   "execution_count": 2,
   "id": "3eef3433",
   "metadata": {},
   "outputs": [
    {
     "name": "stderr",
     "output_type": "stream",
     "text": [
      "/Users/alexstake/opt/anaconda3/envs/metis/lib/python3.8/site-packages/IPython/core/interactiveshell.py:3441: DtypeWarning: Columns (3) have mixed types.Specify dtype option on import or set low_memory=False.\n",
      "  exec(code_obj, self.user_global_ns, self.user_ns)\n"
     ]
    }
   ],
   "source": [
    "tik_tok_df = pd.read_csv('tiktok_app_reviews.csv')"
   ]
  },
  {
   "cell_type": "code",
   "execution_count": 3,
   "id": "c5ab8658",
   "metadata": {},
   "outputs": [],
   "source": [
    "tik_tok_df =tik_tok_df.drop(columns='review_id')"
   ]
  },
  {
   "cell_type": "code",
   "execution_count": 4,
   "id": "e03ff43a",
   "metadata": {},
   "outputs": [
    {
     "data": {
      "text/html": [
       "<div>\n",
       "<style scoped>\n",
       "    .dataframe tbody tr th:only-of-type {\n",
       "        vertical-align: middle;\n",
       "    }\n",
       "\n",
       "    .dataframe tbody tr th {\n",
       "        vertical-align: top;\n",
       "    }\n",
       "\n",
       "    .dataframe thead th {\n",
       "        text-align: right;\n",
       "    }\n",
       "</style>\n",
       "<table border=\"1\" class=\"dataframe\">\n",
       "  <thead>\n",
       "    <tr style=\"text-align: right;\">\n",
       "      <th></th>\n",
       "      <th>review_text</th>\n",
       "      <th>upvotes</th>\n",
       "      <th>app_version</th>\n",
       "      <th>posted_date</th>\n",
       "    </tr>\n",
       "  </thead>\n",
       "  <tbody>\n",
       "    <tr>\n",
       "      <th>0</th>\n",
       "      <td>It is an excellent solution to finding videos ...</td>\n",
       "      <td>402</td>\n",
       "      <td>21.2.5</td>\n",
       "      <td>2021-09-20 07:50:23</td>\n",
       "    </tr>\n",
       "    <tr>\n",
       "      <th>1</th>\n",
       "      <td>Great app works really well so many features s...</td>\n",
       "      <td>67</td>\n",
       "      <td>21.2.5</td>\n",
       "      <td>2021-09-19 23:10:47</td>\n",
       "    </tr>\n",
       "    <tr>\n",
       "      <th>2</th>\n",
       "      <td>I down loaded app but didnt work . i love this...</td>\n",
       "      <td>24</td>\n",
       "      <td>21.2.5</td>\n",
       "      <td>2021-09-19 08:59:34</td>\n",
       "    </tr>\n",
       "    <tr>\n",
       "      <th>3</th>\n",
       "      <td>IT A GREAT APP AND FUN TO USE! HOWEVER ARBITRA...</td>\n",
       "      <td>18</td>\n",
       "      <td>21.2.5</td>\n",
       "      <td>2021-09-19 16:34:43</td>\n",
       "    </tr>\n",
       "    <tr>\n",
       "      <th>4</th>\n",
       "      <td>Currently it's working good for me except a fe...</td>\n",
       "      <td>232</td>\n",
       "      <td>21.1.41</td>\n",
       "      <td>2021-09-14 06:35:02</td>\n",
       "    </tr>\n",
       "  </tbody>\n",
       "</table>\n",
       "</div>"
      ],
      "text/plain": [
       "                                         review_text  upvotes app_version  \\\n",
       "0  It is an excellent solution to finding videos ...      402      21.2.5   \n",
       "1  Great app works really well so many features s...       67      21.2.5   \n",
       "2  I down loaded app but didnt work . i love this...       24      21.2.5   \n",
       "3  IT A GREAT APP AND FUN TO USE! HOWEVER ARBITRA...       18      21.2.5   \n",
       "4  Currently it's working good for me except a fe...      232     21.1.41   \n",
       "\n",
       "           posted_date  \n",
       "0  2021-09-20 07:50:23  \n",
       "1  2021-09-19 23:10:47  \n",
       "2  2021-09-19 08:59:34  \n",
       "3  2021-09-19 16:34:43  \n",
       "4  2021-09-14 06:35:02  "
      ]
     },
     "execution_count": 4,
     "metadata": {},
     "output_type": "execute_result"
    }
   ],
   "source": [
    "tik_tok_df.head()"
   ]
  },
  {
   "cell_type": "code",
   "execution_count": 5,
   "id": "14348f8a",
   "metadata": {},
   "outputs": [],
   "source": [
    "tik_tok_df['date'] = pd.to_datetime(tik_tok_df['posted_date'], infer_datetime_format= True).dt.date"
   ]
  },
  {
   "cell_type": "code",
   "execution_count": 6,
   "id": "f226c84b",
   "metadata": {},
   "outputs": [],
   "source": [
    "split_date= dt.date(2020,1,1)"
   ]
  },
  {
   "cell_type": "code",
   "execution_count": 7,
   "id": "6f9eb6b1",
   "metadata": {},
   "outputs": [],
   "source": [
    "tik_tok_20_21 = tik_tok_df.loc[tik_tok_df['date']>split_date]"
   ]
  },
  {
   "cell_type": "code",
   "execution_count": 8,
   "id": "59c3db7b",
   "metadata": {},
   "outputs": [
    {
     "name": "stdout",
     "output_type": "stream",
     "text": [
      "<class 'pandas.core.frame.DataFrame'>\n",
      "Int64Index: 1937876 entries, 0 to 3646475\n",
      "Data columns (total 5 columns):\n",
      " #   Column       Dtype \n",
      "---  ------       ----- \n",
      " 0   review_text  object\n",
      " 1   upvotes      int64 \n",
      " 2   app_version  object\n",
      " 3   posted_date  object\n",
      " 4   date         object\n",
      "dtypes: int64(1), object(4)\n",
      "memory usage: 88.7+ MB\n"
     ]
    }
   ],
   "source": [
    "tik_tok_20_21.info()"
   ]
  },
  {
   "cell_type": "code",
   "execution_count": 9,
   "id": "a38d1de2",
   "metadata": {},
   "outputs": [
    {
     "name": "stdout",
     "output_type": "stream",
     "text": [
      "<class 'pandas.core.frame.DataFrame'>\n",
      "RangeIndex: 3646476 entries, 0 to 3646475\n",
      "Data columns (total 5 columns):\n",
      " #   Column       Dtype \n",
      "---  ------       ----- \n",
      " 0   review_text  object\n",
      " 1   upvotes      int64 \n",
      " 2   app_version  object\n",
      " 3   posted_date  object\n",
      " 4   date         object\n",
      "dtypes: int64(1), object(4)\n",
      "memory usage: 139.1+ MB\n"
     ]
    }
   ],
   "source": [
    "tik_tok_df.info()"
   ]
  },
  {
   "cell_type": "code",
   "execution_count": 10,
   "id": "8e8ab1b0",
   "metadata": {},
   "outputs": [
    {
     "data": {
      "text/plain": [
       "16"
      ]
     },
     "execution_count": 10,
     "metadata": {},
     "output_type": "execute_result"
    }
   ],
   "source": [
    "tik_tok_20_21.review_text.isnull().sum()"
   ]
  },
  {
   "cell_type": "markdown",
   "id": "133c08a9",
   "metadata": {},
   "source": [
    "Only 16 null reviews out of 1.9 million, so can probably drop them without too much impact"
   ]
  },
  {
   "cell_type": "code",
   "execution_count": 11,
   "id": "9c05e92e",
   "metadata": {},
   "outputs": [
    {
     "data": {
      "text/html": [
       "<div>\n",
       "<style scoped>\n",
       "    .dataframe tbody tr th:only-of-type {\n",
       "        vertical-align: middle;\n",
       "    }\n",
       "\n",
       "    .dataframe tbody tr th {\n",
       "        vertical-align: top;\n",
       "    }\n",
       "\n",
       "    .dataframe thead th {\n",
       "        text-align: right;\n",
       "    }\n",
       "</style>\n",
       "<table border=\"1\" class=\"dataframe\">\n",
       "  <thead>\n",
       "    <tr style=\"text-align: right;\">\n",
       "      <th></th>\n",
       "      <th>review_text</th>\n",
       "      <th>upvotes</th>\n",
       "      <th>app_version</th>\n",
       "      <th>posted_date</th>\n",
       "      <th>date</th>\n",
       "    </tr>\n",
       "  </thead>\n",
       "  <tbody>\n",
       "    <tr>\n",
       "      <th>1713596</th>\n",
       "      <td>NaN</td>\n",
       "      <td>0</td>\n",
       "      <td>19.5.43</td>\n",
       "      <td>2021-06-16 11:39:27</td>\n",
       "      <td>2021-06-16</td>\n",
       "    </tr>\n",
       "    <tr>\n",
       "      <th>1724879</th>\n",
       "      <td>NaN</td>\n",
       "      <td>0</td>\n",
       "      <td>19.5.4</td>\n",
       "      <td>2021-05-19 03:56:05</td>\n",
       "      <td>2021-05-19</td>\n",
       "    </tr>\n",
       "    <tr>\n",
       "      <th>1729379</th>\n",
       "      <td>NaN</td>\n",
       "      <td>0</td>\n",
       "      <td>19.3.4</td>\n",
       "      <td>2021-05-25 23:51:17</td>\n",
       "      <td>2021-05-25</td>\n",
       "    </tr>\n",
       "    <tr>\n",
       "      <th>1762648</th>\n",
       "      <td>NaN</td>\n",
       "      <td>0</td>\n",
       "      <td>18.8.41</td>\n",
       "      <td>2021-04-09 05:12:47</td>\n",
       "      <td>2021-04-09</td>\n",
       "    </tr>\n",
       "    <tr>\n",
       "      <th>1782371</th>\n",
       "      <td>NaN</td>\n",
       "      <td>0</td>\n",
       "      <td>18.6.6</td>\n",
       "      <td>2021-03-04 19:01:34</td>\n",
       "      <td>2021-03-04</td>\n",
       "    </tr>\n",
       "    <tr>\n",
       "      <th>1824753</th>\n",
       "      <td>NaN</td>\n",
       "      <td>0</td>\n",
       "      <td>18.3.6</td>\n",
       "      <td>2021-01-31 07:27:14</td>\n",
       "      <td>2021-01-31</td>\n",
       "    </tr>\n",
       "    <tr>\n",
       "      <th>2079417</th>\n",
       "      <td>NaN</td>\n",
       "      <td>0</td>\n",
       "      <td>15.9.6</td>\n",
       "      <td>2020-05-11 14:45:00</td>\n",
       "      <td>2020-05-11</td>\n",
       "    </tr>\n",
       "    <tr>\n",
       "      <th>2117121</th>\n",
       "      <td>NaN</td>\n",
       "      <td>0</td>\n",
       "      <td>15.7.5</td>\n",
       "      <td>2020-04-20 08:48:29</td>\n",
       "      <td>2020-04-20</td>\n",
       "    </tr>\n",
       "    <tr>\n",
       "      <th>2144000</th>\n",
       "      <td>NaN</td>\n",
       "      <td>0</td>\n",
       "      <td>15.5.42</td>\n",
       "      <td>2020-05-04 01:45:30</td>\n",
       "      <td>2020-05-04</td>\n",
       "    </tr>\n",
       "    <tr>\n",
       "      <th>2212880</th>\n",
       "      <td>NaN</td>\n",
       "      <td>0</td>\n",
       "      <td>15.2.4</td>\n",
       "      <td>2020-03-15 04:03:22</td>\n",
       "      <td>2020-03-15</td>\n",
       "    </tr>\n",
       "    <tr>\n",
       "      <th>2238593</th>\n",
       "      <td>NaN</td>\n",
       "      <td>0</td>\n",
       "      <td>15.0.3</td>\n",
       "      <td>2020-03-02 14:42:05</td>\n",
       "      <td>2020-03-02</td>\n",
       "    </tr>\n",
       "    <tr>\n",
       "      <th>2265515</th>\n",
       "      <td>NaN</td>\n",
       "      <td>0</td>\n",
       "      <td>14.8.4</td>\n",
       "      <td>2020-02-13 02:40:45</td>\n",
       "      <td>2020-02-13</td>\n",
       "    </tr>\n",
       "    <tr>\n",
       "      <th>2324602</th>\n",
       "      <td>NaN</td>\n",
       "      <td>0</td>\n",
       "      <td>14.4.11</td>\n",
       "      <td>2020-01-13 03:55:20</td>\n",
       "      <td>2020-01-13</td>\n",
       "    </tr>\n",
       "    <tr>\n",
       "      <th>2349685</th>\n",
       "      <td>NaN</td>\n",
       "      <td>0</td>\n",
       "      <td>14.3.4</td>\n",
       "      <td>2020-01-02 04:31:15</td>\n",
       "      <td>2020-01-02</td>\n",
       "    </tr>\n",
       "    <tr>\n",
       "      <th>3504654</th>\n",
       "      <td>NaN</td>\n",
       "      <td>0</td>\n",
       "      <td>NaN</td>\n",
       "      <td>2020-07-06 05:03:29</td>\n",
       "      <td>2020-07-06</td>\n",
       "    </tr>\n",
       "    <tr>\n",
       "      <th>3505087</th>\n",
       "      <td>NaN</td>\n",
       "      <td>0</td>\n",
       "      <td>NaN</td>\n",
       "      <td>2021-03-19 18:58:24</td>\n",
       "      <td>2021-03-19</td>\n",
       "    </tr>\n",
       "  </tbody>\n",
       "</table>\n",
       "</div>"
      ],
      "text/plain": [
       "        review_text  upvotes app_version          posted_date        date\n",
       "1713596         NaN        0     19.5.43  2021-06-16 11:39:27  2021-06-16\n",
       "1724879         NaN        0      19.5.4  2021-05-19 03:56:05  2021-05-19\n",
       "1729379         NaN        0      19.3.4  2021-05-25 23:51:17  2021-05-25\n",
       "1762648         NaN        0     18.8.41  2021-04-09 05:12:47  2021-04-09\n",
       "1782371         NaN        0      18.6.6  2021-03-04 19:01:34  2021-03-04\n",
       "1824753         NaN        0      18.3.6  2021-01-31 07:27:14  2021-01-31\n",
       "2079417         NaN        0      15.9.6  2020-05-11 14:45:00  2020-05-11\n",
       "2117121         NaN        0      15.7.5  2020-04-20 08:48:29  2020-04-20\n",
       "2144000         NaN        0     15.5.42  2020-05-04 01:45:30  2020-05-04\n",
       "2212880         NaN        0      15.2.4  2020-03-15 04:03:22  2020-03-15\n",
       "2238593         NaN        0      15.0.3  2020-03-02 14:42:05  2020-03-02\n",
       "2265515         NaN        0      14.8.4  2020-02-13 02:40:45  2020-02-13\n",
       "2324602         NaN        0     14.4.11  2020-01-13 03:55:20  2020-01-13\n",
       "2349685         NaN        0      14.3.4  2020-01-02 04:31:15  2020-01-02\n",
       "3504654         NaN        0         NaN  2020-07-06 05:03:29  2020-07-06\n",
       "3505087         NaN        0         NaN  2021-03-19 18:58:24  2021-03-19"
      ]
     },
     "execution_count": 11,
     "metadata": {},
     "output_type": "execute_result"
    }
   ],
   "source": [
    "tik_tok_20_21.loc[tik_tok_20_21.review_text.isnull()]"
   ]
  },
  {
   "cell_type": "code",
   "execution_count": 12,
   "id": "79b37e02",
   "metadata": {},
   "outputs": [],
   "source": [
    "no_null_reviews_df = tik_tok_20_21.dropna(subset=['review_text'])"
   ]
  },
  {
   "cell_type": "code",
   "execution_count": 13,
   "id": "a4321687",
   "metadata": {},
   "outputs": [
    {
     "name": "stdout",
     "output_type": "stream",
     "text": [
      "<class 'pandas.core.frame.DataFrame'>\n",
      "Int64Index: 1937860 entries, 0 to 3646475\n",
      "Data columns (total 5 columns):\n",
      " #   Column       Dtype \n",
      "---  ------       ----- \n",
      " 0   review_text  object\n",
      " 1   upvotes      int64 \n",
      " 2   app_version  object\n",
      " 3   posted_date  object\n",
      " 4   date         object\n",
      "dtypes: int64(1), object(4)\n",
      "memory usage: 88.7+ MB\n"
     ]
    }
   ],
   "source": [
    "no_null_reviews_df.info()"
   ]
  },
  {
   "cell_type": "code",
   "execution_count": 14,
   "id": "efb02a92",
   "metadata": {},
   "outputs": [
    {
     "name": "stderr",
     "output_type": "stream",
     "text": [
      "/var/folders/ct/v_q82qz551vg3s2wptrzz4cw0000gp/T/ipykernel_4739/2548810918.py:1: SettingWithCopyWarning: \n",
      "A value is trying to be set on a copy of a slice from a DataFrame.\n",
      "Try using .loc[row_indexer,col_indexer] = value instead\n",
      "\n",
      "See the caveats in the documentation: https://pandas.pydata.org/pandas-docs/stable/user_guide/indexing.html#returning-a-view-versus-a-copy\n",
      "  no_null_reviews_df['spacy_cleaned'] = list(nlp.pipe(no_null_reviews_df.review_text))\n"
     ]
    }
   ],
   "source": [
    "no_null_reviews_df['spacy_cleaned'] = list(nlp.pipe(no_null_reviews_df.review_text))"
   ]
  },
  {
   "cell_type": "code",
   "execution_count": 15,
   "id": "1c05ae9f",
   "metadata": {},
   "outputs": [
    {
     "data": {
      "text/html": [
       "<div>\n",
       "<style scoped>\n",
       "    .dataframe tbody tr th:only-of-type {\n",
       "        vertical-align: middle;\n",
       "    }\n",
       "\n",
       "    .dataframe tbody tr th {\n",
       "        vertical-align: top;\n",
       "    }\n",
       "\n",
       "    .dataframe thead th {\n",
       "        text-align: right;\n",
       "    }\n",
       "</style>\n",
       "<table border=\"1\" class=\"dataframe\">\n",
       "  <thead>\n",
       "    <tr style=\"text-align: right;\">\n",
       "      <th></th>\n",
       "      <th>review_text</th>\n",
       "      <th>upvotes</th>\n",
       "      <th>app_version</th>\n",
       "      <th>posted_date</th>\n",
       "      <th>date</th>\n",
       "      <th>spacy_cleaned</th>\n",
       "    </tr>\n",
       "  </thead>\n",
       "  <tbody>\n",
       "    <tr>\n",
       "      <th>0</th>\n",
       "      <td>It is an excellent solution to finding videos ...</td>\n",
       "      <td>402</td>\n",
       "      <td>21.2.5</td>\n",
       "      <td>2021-09-20 07:50:23</td>\n",
       "      <td>2021-09-20</td>\n",
       "      <td>(It, is, an, excellent, solution, to, finding,...</td>\n",
       "    </tr>\n",
       "    <tr>\n",
       "      <th>1</th>\n",
       "      <td>Great app works really well so many features s...</td>\n",
       "      <td>67</td>\n",
       "      <td>21.2.5</td>\n",
       "      <td>2021-09-19 23:10:47</td>\n",
       "      <td>2021-09-19</td>\n",
       "      <td>(Great, app, works, really, well, so, many, fe...</td>\n",
       "    </tr>\n",
       "    <tr>\n",
       "      <th>2</th>\n",
       "      <td>I down loaded app but didnt work . i love this...</td>\n",
       "      <td>24</td>\n",
       "      <td>21.2.5</td>\n",
       "      <td>2021-09-19 08:59:34</td>\n",
       "      <td>2021-09-19</td>\n",
       "      <td>(I, down, loaded, app, but, did, nt, work, ., ...</td>\n",
       "    </tr>\n",
       "    <tr>\n",
       "      <th>3</th>\n",
       "      <td>IT A GREAT APP AND FUN TO USE! HOWEVER ARBITRA...</td>\n",
       "      <td>18</td>\n",
       "      <td>21.2.5</td>\n",
       "      <td>2021-09-19 16:34:43</td>\n",
       "      <td>2021-09-19</td>\n",
       "      <td>(IT, A, GREAT, APP, AND, FUN, TO, USE, !, HOWE...</td>\n",
       "    </tr>\n",
       "    <tr>\n",
       "      <th>4</th>\n",
       "      <td>Currently it's working good for me except a fe...</td>\n",
       "      <td>232</td>\n",
       "      <td>21.1.41</td>\n",
       "      <td>2021-09-14 06:35:02</td>\n",
       "      <td>2021-09-14</td>\n",
       "      <td>(Currently, it, 's, working, good, for, me, ex...</td>\n",
       "    </tr>\n",
       "  </tbody>\n",
       "</table>\n",
       "</div>"
      ],
      "text/plain": [
       "                                         review_text  upvotes app_version  \\\n",
       "0  It is an excellent solution to finding videos ...      402      21.2.5   \n",
       "1  Great app works really well so many features s...       67      21.2.5   \n",
       "2  I down loaded app but didnt work . i love this...       24      21.2.5   \n",
       "3  IT A GREAT APP AND FUN TO USE! HOWEVER ARBITRA...       18      21.2.5   \n",
       "4  Currently it's working good for me except a fe...      232     21.1.41   \n",
       "\n",
       "           posted_date        date  \\\n",
       "0  2021-09-20 07:50:23  2021-09-20   \n",
       "1  2021-09-19 23:10:47  2021-09-19   \n",
       "2  2021-09-19 08:59:34  2021-09-19   \n",
       "3  2021-09-19 16:34:43  2021-09-19   \n",
       "4  2021-09-14 06:35:02  2021-09-14   \n",
       "\n",
       "                                       spacy_cleaned  \n",
       "0  (It, is, an, excellent, solution, to, finding,...  \n",
       "1  (Great, app, works, really, well, so, many, fe...  \n",
       "2  (I, down, loaded, app, but, did, nt, work, ., ...  \n",
       "3  (IT, A, GREAT, APP, AND, FUN, TO, USE, !, HOWE...  \n",
       "4  (Currently, it, 's, working, good, for, me, ex...  "
      ]
     },
     "execution_count": 15,
     "metadata": {},
     "output_type": "execute_result"
    }
   ],
   "source": [
    "no_null_reviews_df.head()"
   ]
  },
  {
   "cell_type": "code",
   "execution_count": 16,
   "id": "b95f0d8e",
   "metadata": {},
   "outputs": [
    {
     "data": {
      "text/plain": [
       "No glitches or hick ups as of yet, rather enjoying using the app 👍 Update, tried to log into my account via phone, says server error but our internet is fine, tried signing in with my facebook account, still server error, is the site under maintenance by any chance? Or will I need to uninstall then re-install?"
      ]
     },
     "execution_count": 16,
     "metadata": {},
     "output_type": "execute_result"
    }
   ],
   "source": [
    "no_null_reviews_df.spacy_cleaned[29]"
   ]
  },
  {
   "cell_type": "markdown",
   "id": "ad61f42b",
   "metadata": {},
   "source": [
    "Looks like the parser worked, emojis are still in there but I believe they can stay since they can sometimes show patterns that are positive"
   ]
  },
  {
   "cell_type": "code",
   "execution_count": 17,
   "id": "48335a24",
   "metadata": {},
   "outputs": [
    {
     "name": "stderr",
     "output_type": "stream",
     "text": [
      "/var/folders/ct/v_q82qz551vg3s2wptrzz4cw0000gp/T/ipykernel_4739/3201625770.py:3: SettingWithCopyWarning: \n",
      "A value is trying to be set on a copy of a slice from a DataFrame.\n",
      "Try using .loc[row_indexer,col_indexer] = value instead\n",
      "\n",
      "See the caveats in the documentation: https://pandas.pydata.org/pandas-docs/stable/user_guide/indexing.html#returning-a-view-versus-a-copy\n",
      "  no_null_reviews_df['docs_clean'] = docs_clean\n"
     ]
    }
   ],
   "source": [
    "docs_clean = [[w.lemma_.lower() for w in doc if (not w.is_stop and not w.is_punct and not w.like_num) \\\n",
    "               or (w.lemma_=='not')] for doc in no_null_reviews_df['spacy_cleaned']]\n",
    "no_null_reviews_df['docs_clean'] = docs_clean"
   ]
  },
  {
   "cell_type": "code",
   "execution_count": 18,
   "id": "8b6d0dcd",
   "metadata": {},
   "outputs": [
    {
     "data": {
      "text/html": [
       "<div>\n",
       "<style scoped>\n",
       "    .dataframe tbody tr th:only-of-type {\n",
       "        vertical-align: middle;\n",
       "    }\n",
       "\n",
       "    .dataframe tbody tr th {\n",
       "        vertical-align: top;\n",
       "    }\n",
       "\n",
       "    .dataframe thead th {\n",
       "        text-align: right;\n",
       "    }\n",
       "</style>\n",
       "<table border=\"1\" class=\"dataframe\">\n",
       "  <thead>\n",
       "    <tr style=\"text-align: right;\">\n",
       "      <th></th>\n",
       "      <th>review_text</th>\n",
       "      <th>upvotes</th>\n",
       "      <th>app_version</th>\n",
       "      <th>posted_date</th>\n",
       "      <th>date</th>\n",
       "      <th>spacy_cleaned</th>\n",
       "      <th>docs_clean</th>\n",
       "    </tr>\n",
       "  </thead>\n",
       "  <tbody>\n",
       "    <tr>\n",
       "      <th>0</th>\n",
       "      <td>It is an excellent solution to finding videos ...</td>\n",
       "      <td>402</td>\n",
       "      <td>21.2.5</td>\n",
       "      <td>2021-09-20 07:50:23</td>\n",
       "      <td>2021-09-20</td>\n",
       "      <td>(It, is, an, excellent, solution, to, finding,...</td>\n",
       "      <td>[excellent, solution, find, video, follow, peo...</td>\n",
       "    </tr>\n",
       "    <tr>\n",
       "      <th>1</th>\n",
       "      <td>Great app works really well so many features s...</td>\n",
       "      <td>67</td>\n",
       "      <td>21.2.5</td>\n",
       "      <td>2021-09-19 23:10:47</td>\n",
       "      <td>2021-09-19</td>\n",
       "      <td>(Great, app, works, really, well, so, many, fe...</td>\n",
       "      <td>[great, app, work, feature, new, feature, lot,...</td>\n",
       "    </tr>\n",
       "    <tr>\n",
       "      <th>2</th>\n",
       "      <td>I down loaded app but didnt work . i love this...</td>\n",
       "      <td>24</td>\n",
       "      <td>21.2.5</td>\n",
       "      <td>2021-09-19 08:59:34</td>\n",
       "      <td>2021-09-19</td>\n",
       "      <td>(I, down, loaded, app, but, did, nt, work, ., ...</td>\n",
       "      <td>[load, app, nt, work, love, app, maybe, fix, b...</td>\n",
       "    </tr>\n",
       "    <tr>\n",
       "      <th>3</th>\n",
       "      <td>IT A GREAT APP AND FUN TO USE! HOWEVER ARBITRA...</td>\n",
       "      <td>18</td>\n",
       "      <td>21.2.5</td>\n",
       "      <td>2021-09-19 16:34:43</td>\n",
       "      <td>2021-09-19</td>\n",
       "      <td>(IT, A, GREAT, APP, AND, FUN, TO, USE, !, HOWE...</td>\n",
       "      <td>[great, app, fun, use, arbitrary, algorithms, ...</td>\n",
       "    </tr>\n",
       "    <tr>\n",
       "      <th>4</th>\n",
       "      <td>Currently it's working good for me except a fe...</td>\n",
       "      <td>232</td>\n",
       "      <td>21.1.41</td>\n",
       "      <td>2021-09-14 06:35:02</td>\n",
       "      <td>2021-09-14</td>\n",
       "      <td>(Currently, it, 's, working, good, for, me, ex...</td>\n",
       "      <td>[currently, work, good, clip, video, work, hou...</td>\n",
       "    </tr>\n",
       "  </tbody>\n",
       "</table>\n",
       "</div>"
      ],
      "text/plain": [
       "                                         review_text  upvotes app_version  \\\n",
       "0  It is an excellent solution to finding videos ...      402      21.2.5   \n",
       "1  Great app works really well so many features s...       67      21.2.5   \n",
       "2  I down loaded app but didnt work . i love this...       24      21.2.5   \n",
       "3  IT A GREAT APP AND FUN TO USE! HOWEVER ARBITRA...       18      21.2.5   \n",
       "4  Currently it's working good for me except a fe...      232     21.1.41   \n",
       "\n",
       "           posted_date        date  \\\n",
       "0  2021-09-20 07:50:23  2021-09-20   \n",
       "1  2021-09-19 23:10:47  2021-09-19   \n",
       "2  2021-09-19 08:59:34  2021-09-19   \n",
       "3  2021-09-19 16:34:43  2021-09-19   \n",
       "4  2021-09-14 06:35:02  2021-09-14   \n",
       "\n",
       "                                       spacy_cleaned  \\\n",
       "0  (It, is, an, excellent, solution, to, finding,...   \n",
       "1  (Great, app, works, really, well, so, many, fe...   \n",
       "2  (I, down, loaded, app, but, did, nt, work, ., ...   \n",
       "3  (IT, A, GREAT, APP, AND, FUN, TO, USE, !, HOWE...   \n",
       "4  (Currently, it, 's, working, good, for, me, ex...   \n",
       "\n",
       "                                          docs_clean  \n",
       "0  [excellent, solution, find, video, follow, peo...  \n",
       "1  [great, app, work, feature, new, feature, lot,...  \n",
       "2  [load, app, nt, work, love, app, maybe, fix, b...  \n",
       "3  [great, app, fun, use, arbitrary, algorithms, ...  \n",
       "4  [currently, work, good, clip, video, work, hou...  "
      ]
     },
     "execution_count": 18,
     "metadata": {},
     "output_type": "execute_result"
    }
   ],
   "source": [
    "no_null_reviews_df.head()"
   ]
  },
  {
   "cell_type": "code",
   "execution_count": 24,
   "id": "58df8e3b",
   "metadata": {},
   "outputs": [
    {
     "data": {
      "text/plain": [
       "['excellent solution find video follow people similar interest excellent solution rediscover environment society give respect environment society public view private view',\n",
       " 'great app work feature new feature lot popular trend thing app like find friend post video like duet share yes sponsor tik tok scam app pretty content foryou page wo load great app continue improve yes stars',\n",
       " 'load app nt work love app maybe fix bug easy load well like sign facebook google work good phone tho ipad not work fix',\n",
       " 'great app fun use arbitrary algorithms blocking banning takedowns etc alleged report reporter able report evidence evidence acquire action evidence require uncorroborated report[s wreck persons rep account -if inclusive environment prove needs far well customer service online phone u know phone app great invent people talk']"
      ]
     },
     "execution_count": 24,
     "metadata": {},
     "output_type": "execute_result"
    }
   ],
   "source": [
    "docs_list_clean = [' '.join(doc) for doc in docs_clean]\n",
    "docs_list_clean[:4]"
   ]
  },
  {
   "cell_type": "code",
   "execution_count": 41,
   "id": "08e3834c",
   "metadata": {},
   "outputs": [],
   "source": [
    "cv = CountVectorizer(stop_words='english', max_df=.9, strip_accents='unicode')\n",
    "tfid =TfidfVectorizer(stop_words='english', max_df=.9, strip_accents='unicode')"
   ]
  },
  {
   "cell_type": "code",
   "execution_count": 42,
   "id": "b2d18e1e",
   "metadata": {},
   "outputs": [],
   "source": [
    "X1 = cv.fit_transform(docs_list_clean)\n",
    "X2 = tfid.fit_transform(docs_list_clean)"
   ]
  },
  {
   "cell_type": "code",
   "execution_count": 54,
   "id": "6436e4ba",
   "metadata": {},
   "outputs": [
    {
     "name": "stdout",
     "output_type": "stream",
     "text": [
      "  (0, 65837)\t2\n",
      "  (0, 187613)\t2\n",
      "  (0, 213109)\t1\n",
      "  (0, 73137)\t1\n",
      "  (0, 153847)\t1\n",
      "  (0, 184952)\t1\n",
      "  (0, 167182)\t1\n",
      "  (0, 63947)\t2\n",
      "  (0, 187133)\t2\n",
      "  (0, 168624)\t1\n",
      "  (0, 160728)\t1\n",
      "  (0, 213494)\t2\n",
      "  (0, 159656)\t1\n",
      "  (1, 213109)\t1\n",
      "  (1, 82260)\t2\n",
      "  (1, 20782)\t4\n",
      "  (1, 219744)\t1\n",
      "  (1, 70646)\t2\n",
      "  (1, 142281)\t1\n",
      "  (1, 122053)\t1\n",
      "  (1, 157635)\t1\n",
      "  (1, 203915)\t1\n",
      "  (1, 199586)\t1\n",
      "  (1, 119770)\t2\n",
      "  (1, 74738)\t1\n",
      "  :\t:\n",
      "  (1937834, 192961)\t1\n",
      "  (1937835, 128273)\t1\n",
      "  (1937836, 192961)\t1\n",
      "  (1937837, 78487)\t1\n",
      "  (1937838, 142649)\t1\n",
      "  (1937839, 200898)\t1\n",
      "  (1937840, 177179)\t1\n",
      "  (1937841, 198574)\t1\n",
      "  (1937842, 75696)\t1\n",
      "  (1937843, 219985)\t1\n",
      "  (1937844, 27141)\t1\n",
      "  (1937845, 223077)\t1\n",
      "  (1937846, 128273)\t1\n",
      "  (1937847, 236088)\t1\n",
      "  (1937849, 68633)\t1\n",
      "  (1937850, 138163)\t1\n",
      "  (1937851, 22025)\t1\n",
      "  (1937852, 133642)\t1\n",
      "  (1937853, 80728)\t1\n",
      "  (1937854, 134907)\t1\n",
      "  (1937855, 219985)\t1\n",
      "  (1937856, 141467)\t1\n",
      "  (1937857, 141467)\t1\n",
      "  (1937858, 142987)\t1\n",
      "  (1937859, 142743)\t1\n",
      "  (0, 159656)\t0.18769900290485866\n",
      "  (0, 213494)\t0.2528742453171057\n",
      "  (0, 160728)\t0.18452171642245832\n",
      "  (0, 168624)\t0.21182617062819997\n",
      "  (0, 187133)\t0.43898814361656313\n",
      "  (0, 63947)\t0.461145086702211\n",
      "  (0, 167182)\t0.28760457735337175\n",
      "  (0, 184952)\t0.22662732409693714\n",
      "  (0, 153847)\t0.1079381999409045\n",
      "  (0, 73137)\t0.1254907630593482\n",
      "  (0, 213109)\t0.08324645580798398\n",
      "  (0, 187613)\t0.43658410953599586\n",
      "  (0, 65837)\t0.23985234640971007\n",
      "  (1, 190315)\t0.22540180056282233\n",
      "  (1, 95974)\t0.19192048720243807\n",
      "  (1, 47371)\t0.2151826179514863\n",
      "  (1, 121135)\t0.18673493817625178\n",
      "  (1, 219222)\t0.16921025741882298\n",
      "  (1, 150978)\t0.15386362815067242\n",
      "  (1, 73886)\t0.13992539655249359\n",
      "  (1, 47311)\t0.1430687568679232\n",
      "  (1, 159179)\t0.16018377406919282\n",
      "  (1, 178135)\t0.24708016395669896\n",
      "  (1, 202568)\t0.08594414502357663\n",
      "  (1, 200639)\t0.08609041727265604\n",
      "  :\t:\n",
      "  (1937834, 192961)\t1.0\n",
      "  (1937835, 128273)\t1.0\n",
      "  (1937836, 192961)\t1.0\n",
      "  (1937837, 78487)\t1.0\n",
      "  (1937838, 142649)\t1.0\n",
      "  (1937839, 200898)\t1.0\n",
      "  (1937840, 177179)\t1.0\n",
      "  (1937841, 198574)\t1.0\n",
      "  (1937842, 75696)\t1.0\n",
      "  (1937843, 219985)\t1.0\n",
      "  (1937844, 27141)\t1.0\n",
      "  (1937845, 223077)\t1.0\n",
      "  (1937846, 128273)\t1.0\n",
      "  (1937847, 236088)\t1.0\n",
      "  (1937849, 68633)\t1.0\n",
      "  (1937850, 138163)\t1.0\n",
      "  (1937851, 22025)\t1.0\n",
      "  (1937852, 133642)\t1.0\n",
      "  (1937853, 80728)\t1.0\n",
      "  (1937854, 134907)\t1.0\n",
      "  (1937855, 219985)\t1.0\n",
      "  (1937856, 141467)\t1.0\n",
      "  (1937857, 141467)\t1.0\n",
      "  (1937858, 142987)\t1.0\n",
      "  (1937859, 142743)\t1.0\n"
     ]
    }
   ],
   "source": [
    "print(X1)\n",
    "print(X2)"
   ]
  },
  {
   "cell_type": "code",
   "execution_count": 63,
   "id": "eab858f4",
   "metadata": {},
   "outputs": [
    {
     "data": {
      "text/plain": [
       "TruncatedSVD(n_components=10)"
      ]
     },
     "execution_count": 63,
     "metadata": {},
     "output_type": "execute_result"
    }
   ],
   "source": [
    "lsa = TruncatedSVD(n_components=10)\n",
    "lsa.fit(X2)"
   ]
  },
  {
   "cell_type": "code",
   "execution_count": 61,
   "id": "d1de2bbd",
   "metadata": {},
   "outputs": [],
   "source": [
    "def display_topics(model, feature_names, no_top_words, topic_names=None):\n",
    "    for ix, topic in enumerate(model.components_):\n",
    "        if not topic_names or not topic_names[ix]:\n",
    "            print(\"\\nTopic \", ix)\n",
    "        else:\n",
    "            print(\"\\nTopic: '\",topic_names[ix],\"'\")\n",
    "        print(\", \".join([feature_names[i]\n",
    "                        for i in topic.argsort()[:-no_top_words - 1:-1]]))"
   ]
  },
  {
   "cell_type": "code",
   "execution_count": 64,
   "id": "ab860a06",
   "metadata": {},
   "outputs": [
    {
     "name": "stdout",
     "output_type": "stream",
     "text": [
      "\n",
      "Topic  0\n",
      "good, app, nice, love, tiktok, like, amazing, tik, tok, great, fun, video, entertainment, awesome, world, time, super, cool, funny, aap, enjoy, thing, use, experience, people\n",
      "\n",
      "Topic  1\n",
      "nice, app, love, tiktok, amazing, tik, tok, great, like, fun, awesome, video, cool, super, funny, aap, enjoy, wow, thank, people, use, make, entertaining, time, watch\n",
      "\n",
      "Topic  2\n",
      "love, app, tiktok, tok, tik, amazing, fun, great, like, video, awesome, cool, funny, make, watch, dance, people, day, super, thank, lot, friend, entertaining, life, use\n",
      "\n",
      "Topic  3\n",
      "app, amazing, great, like, fun, awesome, super, cool, enjoy, funny, entertainment, excellent, video, world, use, best, time, entertaining, interesting, wonderful, favorite, nyc, download, wow, osm\n",
      "\n",
      "Topic  4\n",
      "amazing, tik, tok, like, fun, video, tiktok, nice, good, thank, viral, funny, watch, cool, plz, account, people, super, follower, make, aap, day, lot, team, follow\n",
      "\n",
      "Topic  5\n",
      "amazing, love, nice, good, wow, aap, word, absolutely, tiktok, application, appp, simply, totally, explain, speechless, truly, apk, ittt, ap, itt, recommend, periodt, quality, xx, omg\n",
      "\n",
      "Topic  6\n",
      "fun, tiktok, great, nice, cool, watch, funny, love, video, good, amazing, lot, use, entertaining, super, people, dance, time, friend, make, easy, addictive, way, thing, new\n",
      "\n",
      "Topic  7\n",
      "like, tiktok, video, follower, view, cool, follow, viral, plz, fun, account, love, awesome, dance, lot, funny, people, watch, want, team, comment, nt, help, make, post\n",
      "\n",
      "Topic  8\n",
      "great, like, tiktok, amazing, nice, good, video, love, follower, experience, viral, people, aap, view, time, plz, application, account, follow, way, thing, content, watch, team, work\n",
      "\n",
      "Topic  9\n",
      "awesome, tiktok, great, amazing, video, nice, good, thank, experience, viral, aap, application, funny, people, wow, account, time, watch, day, plz, make, platform, team, thing, content\n"
     ]
    }
   ],
   "source": [
    "display_topics(lsa, tfid.get_feature_names(), 25)"
   ]
  },
  {
   "cell_type": "code",
   "execution_count": null,
   "id": "7c31c7fe",
   "metadata": {},
   "outputs": [],
   "source": []
  },
  {
   "cell_type": "code",
   "execution_count": null,
   "id": "829049b9",
   "metadata": {},
   "outputs": [],
   "source": []
  }
 ],
 "metadata": {
  "kernelspec": {
   "display_name": "Python [conda env:metis] *",
   "language": "python",
   "name": "conda-env-metis-py"
  },
  "language_info": {
   "codemirror_mode": {
    "name": "ipython",
    "version": 3
   },
   "file_extension": ".py",
   "mimetype": "text/x-python",
   "name": "python",
   "nbconvert_exporter": "python",
   "pygments_lexer": "ipython3",
   "version": "3.8.10"
  }
 },
 "nbformat": 4,
 "nbformat_minor": 5
}
