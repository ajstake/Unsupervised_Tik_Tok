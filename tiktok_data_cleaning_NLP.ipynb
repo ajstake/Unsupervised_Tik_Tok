{
 "cells": [
  {
   "cell_type": "code",
   "execution_count": 34,
   "id": "8a84e08e",
   "metadata": {},
   "outputs": [],
   "source": [
    "import numpy as np\n",
    "import pandas as pd\n",
    "import datetime as dt"
   ]
  },
  {
   "cell_type": "code",
   "execution_count": 2,
   "id": "c797f491",
   "metadata": {},
   "outputs": [
    {
     "name": "stderr",
     "output_type": "stream",
     "text": [
      "/Users/alexstake/opt/anaconda3/envs/metis/lib/python3.8/site-packages/IPython/core/interactiveshell.py:3441: DtypeWarning: Columns (3) have mixed types.Specify dtype option on import or set low_memory=False.\n",
      "  exec(code_obj, self.user_global_ns, self.user_ns)\n"
     ]
    }
   ],
   "source": [
    "tik_tok_df = pd.read_csv('tiktok_app_reviews.csv')"
   ]
  },
  {
   "cell_type": "code",
   "execution_count": 4,
   "id": "0ff09f4f",
   "metadata": {},
   "outputs": [],
   "source": [
    "tik_tok_df =tik_tok_df.drop(columns='review_id')"
   ]
  },
  {
   "cell_type": "code",
   "execution_count": 5,
   "id": "56ab38d8",
   "metadata": {},
   "outputs": [
    {
     "data": {
      "text/html": [
       "<div>\n",
       "<style scoped>\n",
       "    .dataframe tbody tr th:only-of-type {\n",
       "        vertical-align: middle;\n",
       "    }\n",
       "\n",
       "    .dataframe tbody tr th {\n",
       "        vertical-align: top;\n",
       "    }\n",
       "\n",
       "    .dataframe thead th {\n",
       "        text-align: right;\n",
       "    }\n",
       "</style>\n",
       "<table border=\"1\" class=\"dataframe\">\n",
       "  <thead>\n",
       "    <tr style=\"text-align: right;\">\n",
       "      <th></th>\n",
       "      <th>review_text</th>\n",
       "      <th>upvotes</th>\n",
       "      <th>app_version</th>\n",
       "      <th>posted_date</th>\n",
       "    </tr>\n",
       "  </thead>\n",
       "  <tbody>\n",
       "    <tr>\n",
       "      <th>0</th>\n",
       "      <td>It is an excellent solution to finding videos ...</td>\n",
       "      <td>402</td>\n",
       "      <td>21.2.5</td>\n",
       "      <td>2021-09-20 07:50:23</td>\n",
       "    </tr>\n",
       "    <tr>\n",
       "      <th>1</th>\n",
       "      <td>Great app works really well so many features s...</td>\n",
       "      <td>67</td>\n",
       "      <td>21.2.5</td>\n",
       "      <td>2021-09-19 23:10:47</td>\n",
       "    </tr>\n",
       "    <tr>\n",
       "      <th>2</th>\n",
       "      <td>I down loaded app but didnt work . i love this...</td>\n",
       "      <td>24</td>\n",
       "      <td>21.2.5</td>\n",
       "      <td>2021-09-19 08:59:34</td>\n",
       "    </tr>\n",
       "    <tr>\n",
       "      <th>3</th>\n",
       "      <td>IT A GREAT APP AND FUN TO USE! HOWEVER ARBITRA...</td>\n",
       "      <td>18</td>\n",
       "      <td>21.2.5</td>\n",
       "      <td>2021-09-19 16:34:43</td>\n",
       "    </tr>\n",
       "    <tr>\n",
       "      <th>4</th>\n",
       "      <td>Currently it's working good for me except a fe...</td>\n",
       "      <td>232</td>\n",
       "      <td>21.1.41</td>\n",
       "      <td>2021-09-14 06:35:02</td>\n",
       "    </tr>\n",
       "  </tbody>\n",
       "</table>\n",
       "</div>"
      ],
      "text/plain": [
       "                                         review_text  upvotes app_version  \\\n",
       "0  It is an excellent solution to finding videos ...      402      21.2.5   \n",
       "1  Great app works really well so many features s...       67      21.2.5   \n",
       "2  I down loaded app but didnt work . i love this...       24      21.2.5   \n",
       "3  IT A GREAT APP AND FUN TO USE! HOWEVER ARBITRA...       18      21.2.5   \n",
       "4  Currently it's working good for me except a fe...      232     21.1.41   \n",
       "\n",
       "           posted_date  \n",
       "0  2021-09-20 07:50:23  \n",
       "1  2021-09-19 23:10:47  \n",
       "2  2021-09-19 08:59:34  \n",
       "3  2021-09-19 16:34:43  \n",
       "4  2021-09-14 06:35:02  "
      ]
     },
     "execution_count": 5,
     "metadata": {},
     "output_type": "execute_result"
    }
   ],
   "source": [
    "tik_tok_df.head()"
   ]
  },
  {
   "cell_type": "code",
   "execution_count": 25,
   "id": "c7e4a59a",
   "metadata": {},
   "outputs": [],
   "source": [
    "tik_tok_df['date'] = pd.to_datetime(tik_tok_df['posted_date'], infer_datetime_format= True).dt.date"
   ]
  },
  {
   "cell_type": "code",
   "execution_count": 35,
   "id": "09286084",
   "metadata": {},
   "outputs": [],
   "source": [
    "split_date= dt.date(2020,1,1)"
   ]
  },
  {
   "cell_type": "code",
   "execution_count": 41,
   "id": "622e623a",
   "metadata": {},
   "outputs": [],
   "source": [
    "tik_tok_20_21 = tik_tok_df.loc[tik_tok_df['date']>split_date]"
   ]
  },
  {
   "cell_type": "code",
   "execution_count": 42,
   "id": "040a7360",
   "metadata": {},
   "outputs": [
    {
     "name": "stdout",
     "output_type": "stream",
     "text": [
      "<class 'pandas.core.frame.DataFrame'>\n",
      "Int64Index: 1937876 entries, 0 to 3646475\n",
      "Data columns (total 5 columns):\n",
      " #   Column       Dtype \n",
      "---  ------       ----- \n",
      " 0   review_text  object\n",
      " 1   upvotes      int64 \n",
      " 2   app_version  object\n",
      " 3   posted_date  object\n",
      " 4   date         object\n",
      "dtypes: int64(1), object(4)\n",
      "memory usage: 88.7+ MB\n"
     ]
    }
   ],
   "source": [
    "tik_tok_20_21.info()"
   ]
  },
  {
   "cell_type": "code",
   "execution_count": 43,
   "id": "90a79818",
   "metadata": {},
   "outputs": [
    {
     "name": "stdout",
     "output_type": "stream",
     "text": [
      "<class 'pandas.core.frame.DataFrame'>\n",
      "RangeIndex: 3646476 entries, 0 to 3646475\n",
      "Data columns (total 5 columns):\n",
      " #   Column       Dtype \n",
      "---  ------       ----- \n",
      " 0   review_text  object\n",
      " 1   upvotes      int64 \n",
      " 2   app_version  object\n",
      " 3   posted_date  object\n",
      " 4   date         object\n",
      "dtypes: int64(1), object(4)\n",
      "memory usage: 139.1+ MB\n"
     ]
    }
   ],
   "source": [
    "tik_tok_df.info()"
   ]
  },
  {
   "cell_type": "code",
   "execution_count": 50,
   "id": "750ff9ae",
   "metadata": {},
   "outputs": [
    {
     "data": {
      "text/plain": [
       "16"
      ]
     },
     "execution_count": 50,
     "metadata": {},
     "output_type": "execute_result"
    }
   ],
   "source": [
    "tik_tok_20_21.review_text.isnull().sum()"
   ]
  },
  {
   "cell_type": "markdown",
   "id": "6f2e9d90",
   "metadata": {},
   "source": [
    "Only 16 null reviews out of 1.9 million, so can probably drop them without too much impact"
   ]
  },
  {
   "cell_type": "code",
   "execution_count": 55,
   "id": "e0de8d01",
   "metadata": {},
   "outputs": [
    {
     "data": {
      "text/html": [
       "<div>\n",
       "<style scoped>\n",
       "    .dataframe tbody tr th:only-of-type {\n",
       "        vertical-align: middle;\n",
       "    }\n",
       "\n",
       "    .dataframe tbody tr th {\n",
       "        vertical-align: top;\n",
       "    }\n",
       "\n",
       "    .dataframe thead th {\n",
       "        text-align: right;\n",
       "    }\n",
       "</style>\n",
       "<table border=\"1\" class=\"dataframe\">\n",
       "  <thead>\n",
       "    <tr style=\"text-align: right;\">\n",
       "      <th></th>\n",
       "      <th>review_text</th>\n",
       "      <th>upvotes</th>\n",
       "      <th>app_version</th>\n",
       "      <th>posted_date</th>\n",
       "      <th>date</th>\n",
       "    </tr>\n",
       "  </thead>\n",
       "  <tbody>\n",
       "    <tr>\n",
       "      <th>1713596</th>\n",
       "      <td>NaN</td>\n",
       "      <td>0</td>\n",
       "      <td>19.5.43</td>\n",
       "      <td>2021-06-16 11:39:27</td>\n",
       "      <td>2021-06-16</td>\n",
       "    </tr>\n",
       "    <tr>\n",
       "      <th>1724879</th>\n",
       "      <td>NaN</td>\n",
       "      <td>0</td>\n",
       "      <td>19.5.4</td>\n",
       "      <td>2021-05-19 03:56:05</td>\n",
       "      <td>2021-05-19</td>\n",
       "    </tr>\n",
       "    <tr>\n",
       "      <th>1729379</th>\n",
       "      <td>NaN</td>\n",
       "      <td>0</td>\n",
       "      <td>19.3.4</td>\n",
       "      <td>2021-05-25 23:51:17</td>\n",
       "      <td>2021-05-25</td>\n",
       "    </tr>\n",
       "    <tr>\n",
       "      <th>1762648</th>\n",
       "      <td>NaN</td>\n",
       "      <td>0</td>\n",
       "      <td>18.8.41</td>\n",
       "      <td>2021-04-09 05:12:47</td>\n",
       "      <td>2021-04-09</td>\n",
       "    </tr>\n",
       "    <tr>\n",
       "      <th>1782371</th>\n",
       "      <td>NaN</td>\n",
       "      <td>0</td>\n",
       "      <td>18.6.6</td>\n",
       "      <td>2021-03-04 19:01:34</td>\n",
       "      <td>2021-03-04</td>\n",
       "    </tr>\n",
       "    <tr>\n",
       "      <th>1824753</th>\n",
       "      <td>NaN</td>\n",
       "      <td>0</td>\n",
       "      <td>18.3.6</td>\n",
       "      <td>2021-01-31 07:27:14</td>\n",
       "      <td>2021-01-31</td>\n",
       "    </tr>\n",
       "    <tr>\n",
       "      <th>2079417</th>\n",
       "      <td>NaN</td>\n",
       "      <td>0</td>\n",
       "      <td>15.9.6</td>\n",
       "      <td>2020-05-11 14:45:00</td>\n",
       "      <td>2020-05-11</td>\n",
       "    </tr>\n",
       "    <tr>\n",
       "      <th>2117121</th>\n",
       "      <td>NaN</td>\n",
       "      <td>0</td>\n",
       "      <td>15.7.5</td>\n",
       "      <td>2020-04-20 08:48:29</td>\n",
       "      <td>2020-04-20</td>\n",
       "    </tr>\n",
       "    <tr>\n",
       "      <th>2144000</th>\n",
       "      <td>NaN</td>\n",
       "      <td>0</td>\n",
       "      <td>15.5.42</td>\n",
       "      <td>2020-05-04 01:45:30</td>\n",
       "      <td>2020-05-04</td>\n",
       "    </tr>\n",
       "    <tr>\n",
       "      <th>2212880</th>\n",
       "      <td>NaN</td>\n",
       "      <td>0</td>\n",
       "      <td>15.2.4</td>\n",
       "      <td>2020-03-15 04:03:22</td>\n",
       "      <td>2020-03-15</td>\n",
       "    </tr>\n",
       "    <tr>\n",
       "      <th>2238593</th>\n",
       "      <td>NaN</td>\n",
       "      <td>0</td>\n",
       "      <td>15.0.3</td>\n",
       "      <td>2020-03-02 14:42:05</td>\n",
       "      <td>2020-03-02</td>\n",
       "    </tr>\n",
       "    <tr>\n",
       "      <th>2265515</th>\n",
       "      <td>NaN</td>\n",
       "      <td>0</td>\n",
       "      <td>14.8.4</td>\n",
       "      <td>2020-02-13 02:40:45</td>\n",
       "      <td>2020-02-13</td>\n",
       "    </tr>\n",
       "    <tr>\n",
       "      <th>2324602</th>\n",
       "      <td>NaN</td>\n",
       "      <td>0</td>\n",
       "      <td>14.4.11</td>\n",
       "      <td>2020-01-13 03:55:20</td>\n",
       "      <td>2020-01-13</td>\n",
       "    </tr>\n",
       "    <tr>\n",
       "      <th>2349685</th>\n",
       "      <td>NaN</td>\n",
       "      <td>0</td>\n",
       "      <td>14.3.4</td>\n",
       "      <td>2020-01-02 04:31:15</td>\n",
       "      <td>2020-01-02</td>\n",
       "    </tr>\n",
       "    <tr>\n",
       "      <th>3504654</th>\n",
       "      <td>NaN</td>\n",
       "      <td>0</td>\n",
       "      <td>NaN</td>\n",
       "      <td>2020-07-06 05:03:29</td>\n",
       "      <td>2020-07-06</td>\n",
       "    </tr>\n",
       "    <tr>\n",
       "      <th>3505087</th>\n",
       "      <td>NaN</td>\n",
       "      <td>0</td>\n",
       "      <td>NaN</td>\n",
       "      <td>2021-03-19 18:58:24</td>\n",
       "      <td>2021-03-19</td>\n",
       "    </tr>\n",
       "  </tbody>\n",
       "</table>\n",
       "</div>"
      ],
      "text/plain": [
       "        review_text  upvotes app_version          posted_date        date\n",
       "1713596         NaN        0     19.5.43  2021-06-16 11:39:27  2021-06-16\n",
       "1724879         NaN        0      19.5.4  2021-05-19 03:56:05  2021-05-19\n",
       "1729379         NaN        0      19.3.4  2021-05-25 23:51:17  2021-05-25\n",
       "1762648         NaN        0     18.8.41  2021-04-09 05:12:47  2021-04-09\n",
       "1782371         NaN        0      18.6.6  2021-03-04 19:01:34  2021-03-04\n",
       "1824753         NaN        0      18.3.6  2021-01-31 07:27:14  2021-01-31\n",
       "2079417         NaN        0      15.9.6  2020-05-11 14:45:00  2020-05-11\n",
       "2117121         NaN        0      15.7.5  2020-04-20 08:48:29  2020-04-20\n",
       "2144000         NaN        0     15.5.42  2020-05-04 01:45:30  2020-05-04\n",
       "2212880         NaN        0      15.2.4  2020-03-15 04:03:22  2020-03-15\n",
       "2238593         NaN        0      15.0.3  2020-03-02 14:42:05  2020-03-02\n",
       "2265515         NaN        0      14.8.4  2020-02-13 02:40:45  2020-02-13\n",
       "2324602         NaN        0     14.4.11  2020-01-13 03:55:20  2020-01-13\n",
       "2349685         NaN        0      14.3.4  2020-01-02 04:31:15  2020-01-02\n",
       "3504654         NaN        0         NaN  2020-07-06 05:03:29  2020-07-06\n",
       "3505087         NaN        0         NaN  2021-03-19 18:58:24  2021-03-19"
      ]
     },
     "execution_count": 55,
     "metadata": {},
     "output_type": "execute_result"
    }
   ],
   "source": [
    "tik_tok_20_21.loc[tik_tok_20_21.review_text.isnull()]"
   ]
  },
  {
   "cell_type": "code",
   "execution_count": 58,
   "id": "5a8cf664",
   "metadata": {},
   "outputs": [],
   "source": [
    "no_null_reviews_df = tik_tok_20_21.dropna(subset=['review_text'])"
   ]
  },
  {
   "cell_type": "code",
   "execution_count": 59,
   "id": "302f063d",
   "metadata": {},
   "outputs": [
    {
     "name": "stdout",
     "output_type": "stream",
     "text": [
      "<class 'pandas.core.frame.DataFrame'>\n",
      "Int64Index: 1937860 entries, 0 to 3646475\n",
      "Data columns (total 5 columns):\n",
      " #   Column       Dtype \n",
      "---  ------       ----- \n",
      " 0   review_text  object\n",
      " 1   upvotes      int64 \n",
      " 2   app_version  object\n",
      " 3   posted_date  object\n",
      " 4   date         object\n",
      "dtypes: int64(1), object(4)\n",
      "memory usage: 88.7+ MB\n"
     ]
    }
   ],
   "source": [
    "no_null_reviews_df.info()"
   ]
  },
  {
   "cell_type": "code",
   "execution_count": null,
   "id": "51ac6ef9",
   "metadata": {},
   "outputs": [],
   "source": []
  }
 ],
 "metadata": {
  "kernelspec": {
   "display_name": "Python [conda env:metis] *",
   "language": "python",
   "name": "conda-env-metis-py"
  },
  "language_info": {
   "codemirror_mode": {
    "name": "ipython",
    "version": 3
   },
   "file_extension": ".py",
   "mimetype": "text/x-python",
   "name": "python",
   "nbconvert_exporter": "python",
   "pygments_lexer": "ipython3",
   "version": "3.8.10"
  }
 },
 "nbformat": 4,
 "nbformat_minor": 5
}
